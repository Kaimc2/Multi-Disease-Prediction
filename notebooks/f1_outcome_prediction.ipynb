{
 "cells": [
  {
   "cell_type": "markdown",
   "id": "f7690c87",
   "metadata": {},
   "source": []
  },
  {
   "cell_type": "markdown",
   "id": "ce61aca6",
   "metadata": {},
   "source": [
    "# Formula 1 Outcome Prediction"
   ]
  },
  {
   "cell_type": "markdown",
   "id": "873e5ffb",
   "metadata": {},
   "source": []
  }
 ],
 "metadata": {
  "kernelspec": {
   "display_name": "Python 3 (ipykernel)",
   "language": "python",
   "name": "python3"
  },
  "language_info": {
   "codemirror_mode": {
    "name": "ipython",
    "version": 3
   },
   "file_extension": ".py",
   "mimetype": "text/x-python",
   "name": "python",
   "nbconvert_exporter": "python",
   "pygments_lexer": "ipython3",
   "version": "3.11.7"
  }
 },
 "nbformat": 4,
 "nbformat_minor": 5
}
